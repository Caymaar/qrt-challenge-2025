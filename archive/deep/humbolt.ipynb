{
 "cells": [
  {
   "cell_type": "code",
   "execution_count": 2,
   "metadata": {},
   "outputs": [],
   "source": [
    "import numpy as np\n",
    "import matplotlib.pyplot as plt\n",
    "\n",
    "# For preprocessing\n",
    "from sklearn.preprocessing import StandardScaler\n",
    "from sklearn_pandas import DataFrameMapper "
   ]
  },
  {
   "cell_type": "code",
   "execution_count": null,
   "metadata": {},
   "outputs": [],
   "source": [
    "\n",
    "\n",
    "data_ds = data_cox.copy()\n",
    "df_train = data_ds.copy()\n",
    "\n",
    "df_test = df_train.sample(frac=0.2)\n",
    "df_train = df_train.drop(df_test.index)\n",
    "df_val = df_train.sample(frac=0.2)\n",
    "df_train = df_train.drop(df_val.index)\n",
    "\n",
    "cols_stand = ['balance_time', 'LTV_time', 'origination_time', 'maturity_time',\n",
    "       'interest_rate_time', 'house_price_index_time', 'gdp_time', 'unemployment_rate_time',\n",
    "       'balance_orig_time', 'FICO_orig_time',\n",
    "       'LTV_orig_time', 'interest_rate_orig_time', 'house_price_index_orig_time']\n",
    "\n",
    "cols_leave = ['investor_orig_time', 'real_estate_condominium',\n",
    "       'real_estate_planned_urban_dev', 'real_estate_single_family_home', 'total_obs_time', 'default_time']\n",
    "\n",
    "#standardize = [([col], StandardScaler) for col in cols_stand]\n",
    "\n",
    "standardize = [([col], None) for col in cols_stand]\n",
    "leave = [(col, None) for col in cols_leave]\n",
    "\n",
    "x_mapper = DataFrameMapper(standardize + leave)\n",
    "x_train = x_mapper.fit_transform(df_train).astype('float32')\n",
    "x_val = x_mapper.transform(df_val).astype('float32')\n",
    "x_test = x_mapper.transform(df_test).astype('float32')"
   ]
  },
  {
   "cell_type": "code",
   "execution_count": null,
   "metadata": {},
   "outputs": [],
   "source": [
    "get_target = lambda df: (df['total_obs_time'].values, df['default_time'].values)\n",
    "y_train = get_target(df_train)\n",
    "y_val = get_target(df_val)\n",
    "durations_test, events_test = get_target(df_test)\n",
    "val = x_val, y_val"
   ]
  },
  {
   "cell_type": "code",
   "execution_count": null,
   "metadata": {},
   "outputs": [],
   "source": [
    "n_nodes = 256\n",
    "in_features = x_train.shape[1]\n",
    "num_nodes = [n_nodes, n_nodes, n_nodes, n_nodes]\n",
    "out_features = 1\n",
    "batch_norm = True\n",
    "dropout = 0.4\n",
    "output_bias = False\n",
    "\n",
    "net_ds = tt.practical.MLPVanilla(in_features, num_nodes, out_features, batch_norm, dropout, output_bias=output_bias)\n",
    "\n",
    "model_ = CoxPH(net_ds, tt.optim.Adam)"
   ]
  }
 ],
 "metadata": {
  "kernelspec": {
   "display_name": ".venv",
   "language": "python",
   "name": "python3"
  },
  "language_info": {
   "codemirror_mode": {
    "name": "ipython",
    "version": 3
   },
   "file_extension": ".py",
   "mimetype": "text/x-python",
   "name": "python",
   "nbconvert_exporter": "python",
   "pygments_lexer": "ipython3",
   "version": "3.11.6"
  }
 },
 "nbformat": 4,
 "nbformat_minor": 2
}
