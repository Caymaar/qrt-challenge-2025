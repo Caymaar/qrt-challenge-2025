{
 "cells": [
  {
   "cell_type": "code",
   "execution_count": null,
   "metadata": {},
   "outputs": [],
   "source": [
    "# DeepHit input settings\n",
    "\n",
    "# Characteristic data format E, T, X\n",
    "event              = np.asarray(data[['event']])\n",
    "time               = np.asarray(data[['duration']])\n",
    "dhdata             = np.asarray(data.iloc[:,1:18])\n",
    "\n",
    "# Standardisation of the data\n",
    "dhdata             = f_get_Normalization(dhdata, 'standard')\n",
    "\n",
    "# Dimension of time horizon of interest (equivalent to the output dimension per risk)\n",
    "# Factor of 1.2 was used in the paper in order to have enough time-horizon\n",
    "num_Category       = int(np.max(time) * 1.2) \n",
    "\n",
    "# Number of events (censoring is not included)\n",
    "num_Event          = int(len(np.unique(event)) - 1) \n",
    "\n",
    "# Input dimension\n",
    "x_dim              = np.shape(dhdata)[1]\n",
    "\n",
    "# Based on the data, mask1 and mask2 needed to calculate the loss functions\n",
    "# To calculate loss 1 - log-likelihood loss\n",
    "mask1              = f_get_fc_mask2(time, event, num_Event, num_Category)\n",
    "# To calculate loss 2 - cause-specific ranking loss\n",
    "mask2              = f_get_fc_mask3(time, -1, num_Category)\n",
    "\n",
    "DIM                = (x_dim)\n",
    "DATA               = (dhdata, time, event)\n",
    "MASK               = (mask1, mask2)"
   ]
  }
 ],
 "metadata": {
  "language_info": {
   "name": "python"
  }
 },
 "nbformat": 4,
 "nbformat_minor": 2
}
